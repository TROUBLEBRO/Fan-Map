{
 "cells": [
  {
   "cell_type": "markdown",
   "metadata": {},
   "source": [
    "* **GP**-Games Played    **MIN**-Minutes Played    **FG%**-Field Goal Percentage    **FGM**-Field Goals Made\n",
    "* **FGA**-Field Goals Attempted    **3P%**-3 Point Field Goals Percentage    **3PM**-3 Point Field Goals Made\n",
    "* **3PA**-3 Point Field Goals Attempted    **FT%**-Free Throw Percentage    **FTM**-Free Throws Made\n",
    "* **FTA**-Free Throws Attempted **REB**-Rebounds **OREB**-Offensive Rebounds **DREB**-Defensive Rebounds\n",
    "* **AST**-Assists **STL**-Steals **BLK**-Blocks **TOV**-Turnovers **PF**-Personal Fouls **PTS**-Points\n",
    "* **PER**-efficiency value **WS**-Win Shares"
   ]
  },
  {
   "cell_type": "code",
   "execution_count": 1,
   "metadata": {
    "ExecuteTime": {
     "end_time": "2018-01-05T16:20:05.528936Z",
     "start_time": "2018-01-05T16:20:05.015799Z"
    }
   },
   "outputs": [],
   "source": [
    "import numpy as np\n",
    "import pandas as pd\n",
    "import matplotlib.pyplot as plt\n",
    "\n",
    "#load dataset\n",
    "df = pd.read_csv(\"04-12_NBA_rookies_data.csv\", header=None)"
   ]
  },
  {
   "cell_type": "code",
   "execution_count": 2,
   "metadata": {
    "ExecuteTime": {
     "end_time": "2018-01-05T16:20:05.890242Z",
     "start_time": "2018-01-05T16:20:05.882958Z"
    }
   },
   "outputs": [],
   "source": [
    "#load dataset\n",
    "df1 = pd.read_csv(\"04-12_NBA_rookies_data_without3PP.csv\", header=None, encoding='utf-8')\n",
    "#df1 = df1.astype(float)\n",
    "ds = df1.values\n",
    "x = ds[:,0:23]"
   ]
  },
  {
   "cell_type": "markdown",
   "metadata": {},
   "source": [
    "#  PCA analysis"
   ]
  },
  {
   "cell_type": "code",
   "execution_count": 3,
   "metadata": {
    "ExecuteTime": {
     "end_time": "2018-01-05T16:20:07.571317Z",
     "start_time": "2018-01-05T16:20:07.536285Z"
    }
   },
   "outputs": [],
   "source": [
    "def zeroMean(dataMat):        \n",
    "    meanVal=np.mean(dataMat,axis=0)     #get mean by columns\n",
    "    newData=dataMat-meanVal  \n",
    "    return newData,meanVal\n",
    "\n",
    "\n",
    "def percentage2n(eigVals,percentage):  \n",
    "    sortArray=np.sort(eigVals)          #ascend order \n",
    "    sortArray=sortArray[-1::-1]           \n",
    "    arraySum=sum(sortArray)  \n",
    "    tmpSum=0  \n",
    "    num=0  \n",
    "    for i in sortArray:  \n",
    "        tmpSum+=i  \n",
    "        num+=1  \n",
    "        if tmpSum>=arraySum*percentage:  \n",
    "            return num  \n",
    "\n",
    "\n",
    "def pca(dataMat,percentage=0.99):  \n",
    "    newData,meanVal=zeroMean(dataMat)  \n",
    "    covMat=np.cov(newData,rowvar=0)      #covariance  \n",
    "    eigVals,eigVects=np.linalg.eig(np.mat(covMat))      \n",
    "    n=percentage2n(eigVals,percentage)                 #need n dimensionol data to get the convariance percentage\n",
    "    eigValIndice=np.argsort(eigVals)            #ascend order \n",
    "    n_eigValIndice=eigValIndice[-1:-(n+1):-1]   \n",
    "    n_eigVect=eigVects[:,n_eigValIndice]        \n",
    "    lowDDataMat=newData*n_eigVect               #lower dimensional data  \n",
    "    reconMat=(lowDDataMat*n_eigVect.T)+meanVal  #reconstruct data  \n",
    "    return lowDDataMat,reconMat,n "
   ]
  },
  {
   "cell_type": "markdown",
   "metadata": {},
   "source": [
    "# PCA processing"
   ]
  },
  {
   "cell_type": "code",
   "execution_count": 4,
   "metadata": {
    "ExecuteTime": {
     "end_time": "2018-01-05T16:20:09.479411Z",
     "start_time": "2018-01-05T16:20:09.469200Z"
    }
   },
   "outputs": [
    {
     "name": "stdout",
     "output_type": "stream",
     "text": [
      "auto choose 5 dimentional\n"
     ]
    },
    {
     "data": {
      "text/plain": [
       "matrix([[ 66.98303368, -32.80212741, -15.43392667,   7.5355039 ,\n",
       "          -2.23328347],\n",
       "        [ 48.94320987,  -5.03255543, -11.6712219 ,   1.10170476,\n",
       "           4.22327956],\n",
       "        [ 29.28591998,  18.11223535,  -5.3553855 ,   3.80480391,\n",
       "           0.69330913],\n",
       "        ..., \n",
       "        [-52.32370277, -14.23029569,  -2.44296531,  -6.16752451,   5.0028104 ],\n",
       "        [-46.42545777,  -8.67923521,  -3.30853984, -11.48551298,\n",
       "           7.75618201],\n",
       "        [-49.96009269, -11.45113396,  -4.59694688,  -6.95903878,\n",
       "           3.82868821]])"
      ]
     },
     "execution_count": 4,
     "metadata": {},
     "output_type": "execute_result"
    }
   ],
   "source": [
    "lowDDataMat,reconMat,n = pca(x)\n",
    "print('auto choose '+str(n)+' dimentional')\n",
    "lowDDataMat"
   ]
  },
  {
   "cell_type": "code",
   "execution_count": 5,
   "metadata": {
    "ExecuteTime": {
     "end_time": "2018-01-05T16:20:10.993109Z",
     "start_time": "2018-01-05T16:20:10.974604Z"
    }
   },
   "outputs": [
    {
     "name": "stdout",
     "output_type": "stream",
     "text": [
      "auto choose 5 dimentional\n"
     ]
    },
    {
     "data": {
      "text/plain": [
       "matrix([[  7.63409103e+01,  -4.05386792e+01,   9.39633821e+00,\n",
       "           7.56420792e+00,   1.98314752e+00],\n",
       "        [  3.12176168e+01,  -3.53570327e+01,  -1.26991325e+01,\n",
       "           4.86555926e+00,   8.43084221e+00],\n",
       "        [  5.93074214e+01,  -3.53310366e+01,   1.19507559e+01,\n",
       "           2.97419505e+00,   1.98037686e+00],\n",
       "        [  5.49939488e+01,  -2.07840565e+01,  -9.43292819e+00,\n",
       "          -2.14681061e+00,   1.18639701e+00],\n",
       "        [  5.87431252e+01,  -1.87599023e+01,  -1.74010095e+01,\n",
       "          -1.22384840e+00,  -2.59700130e-01],\n",
       "        [  5.19488039e+01,  -3.06635954e+01,   1.35120363e+01,\n",
       "          -3.50413420e+00,   7.04799662e+00],\n",
       "        [  2.41468557e+01,  -3.75634476e+00,   9.66137206e+00,\n",
       "           5.65830093e+00,   5.46556035e+00],\n",
       "        [  2.67566414e+01,   2.28724908e+01,  -2.83440481e+00,\n",
       "           1.49306143e+00,   7.00721574e+00],\n",
       "        [  3.22756314e+01,   3.30560310e+01,   3.29224114e+00,\n",
       "           5.77564759e+00,   4.09522715e+00],\n",
       "        [  1.36048954e+01,   1.65217138e+01,  -5.31745125e+00,\n",
       "           5.24719665e+00,   2.28179562e+00],\n",
       "        [  3.50421741e+01,  -1.08581997e+01,   1.85973398e+00,\n",
       "           1.86782337e+00,  -2.49522847e+00],\n",
       "        [  1.78095850e+00,   1.48612402e+01,   7.40432763e-01,\n",
       "           3.92451026e+00,   7.71005298e+00],\n",
       "        [  3.25935614e+01,   2.74973809e+01,   5.45744440e+00,\n",
       "           2.49463367e+00,   1.10119350e+01],\n",
       "        [  4.52071559e+01,   5.71658261e+00,   5.27893233e+00,\n",
       "          -1.25798676e+00,  -5.67993947e+00],\n",
       "        [  3.39968555e+01,   2.15585146e+01,  -1.01747546e+01,\n",
       "          -1.00576948e+00,  -2.63449809e+00],\n",
       "        [ -1.37225356e+01,  -1.63672980e+01,  -4.79802854e+00,\n",
       "           3.39644666e+00,   6.62902351e+00],\n",
       "        [ -2.57027879e+01,  -1.68313226e+00,  -5.58809832e+00,\n",
       "           4.53224758e+00,   3.89802448e+00],\n",
       "        [  2.17309275e+00,   4.37431338e+00,  -2.61235264e+01,\n",
       "           3.74036938e+00,  -5.24658348e+00],\n",
       "        [  2.96456893e+01,   2.06057368e+01,  -1.42373682e+01,\n",
       "           1.78303193e+00,  -4.39794372e+00],\n",
       "        [  6.59146675e+00,  -1.10732938e+00,   1.64223787e+01,\n",
       "           2.26867515e+00,   2.68748715e-01],\n",
       "        [  2.53848645e+01,  -4.42182687e+00,  -1.79411751e+01,\n",
       "           1.21650781e-01,  -3.54428518e+00],\n",
       "        [  2.66980959e+00,   2.58668671e+01,   1.69957092e+01,\n",
       "           5.42283908e+00,   1.75606570e+00],\n",
       "        [ -2.67235316e+01,  -7.08807574e+00,  -5.68489932e+00,\n",
       "           1.95405777e+00,   4.35642930e+00],\n",
       "        [ -1.48924640e+01,   3.83662738e+00,  -8.97659473e+00,\n",
       "           1.23427647e+00,   2.73998517e+00],\n",
       "        [ -5.52587574e+01,  -1.60307054e+01,   2.43870844e+00,\n",
       "           2.00689688e+01,  -3.99553158e+00],\n",
       "        [ -1.46695481e+01,   5.28739854e+00,  -3.06575476e+00,\n",
       "          -3.40256680e-02,  -1.54015262e+00],\n",
       "        [ -1.66140132e+01,  -1.18296673e+01,  -1.07271758e+01,\n",
       "          -6.03907360e+00,   7.16809459e+00],\n",
       "        [ -2.80545421e+01,   2.64325224e+00,   7.05741550e+00,\n",
       "           7.68343908e+00,  -9.58008715e-01],\n",
       "        [  6.24984535e+00,   1.11530177e+01,   1.48327870e+00,\n",
       "           1.25666914e+00,  -3.83154474e+00],\n",
       "        [ -1.26271439e+01,   9.01475797e+00,  -3.40964512e+00,\n",
       "          -5.55420058e-01,  -1.83195761e+00],\n",
       "        [  1.44968479e+01,   1.60170175e+01,  -2.37570094e-01,\n",
       "          -3.00141347e+00,  -5.23078559e+00],\n",
       "        [ -1.41289241e+01,   6.11587418e+00,  -4.11347858e+00,\n",
       "           3.60644439e+00,  -3.47380592e+00],\n",
       "        [  2.17229297e+01,   2.04855373e+01,  -8.07288980e+00,\n",
       "          -6.70398304e+00,  -3.50936263e+00],\n",
       "        [ -1.89362001e+01,   8.77658676e+00,   2.93255627e+00,\n",
       "          -2.43104265e+00,  -5.13503155e-01],\n",
       "        [ -1.63551755e+01,   1.17671307e+01,   4.80630235e+00,\n",
       "          -5.00231633e+00,  -8.98645867e-01],\n",
       "        [ -5.20061615e+01,  -1.13763723e+01,   3.90207634e+00,\n",
       "           6.83939514e+00,  -2.80359199e+00],\n",
       "        [ -4.06960777e+01,  -4.47104780e+00,   2.56084899e+00,\n",
       "           3.31710413e+00,  -4.82796951e+00],\n",
       "        [ -2.17708376e+01,   6.99802674e+00,  -3.58009723e-02,\n",
       "          -6.96452632e+00,  -4.74373960e+00],\n",
       "        [ -5.13570774e+01,  -9.17638412e+00,   4.63300169e+00,\n",
       "          -4.27928226e+00,  -8.37131576e-02],\n",
       "        [ -5.46983406e+01,  -1.22527473e+01,   2.00790064e+00,\n",
       "          -1.84988000e+00,  -3.94770881e+00],\n",
       "        [  6.04196539e+01,  -1.52303484e+01,   2.78103530e+00,\n",
       "          -3.18398159e+00,  -3.93819477e+00],\n",
       "        [  3.97557057e+01,   6.10995700e+00,   5.34774507e+00,\n",
       "           5.33796501e+00,   5.16788980e+00],\n",
       "        [  3.76865867e+01,   2.49612034e+01,  -4.19977808e+00,\n",
       "           3.77184615e+00,   2.89413098e+00],\n",
       "        [  5.19337139e+01,  -7.39857688e+00,  -8.08871405e+00,\n",
       "          -3.94624190e+00,   2.97915315e+00],\n",
       "        [  7.00729791e+01,  -3.39398435e+01,   2.29499269e+00,\n",
       "          -6.78643107e+00,  -1.06206203e+01],\n",
       "        [ -1.18963974e+01,  -1.05463276e+01,  -7.07249964e+00,\n",
       "           6.71338202e+00,   5.08360195e+00],\n",
       "        [  2.09713402e+01,  -9.41577769e+00,  -1.11725467e+01,\n",
       "          -2.06834969e-01,   7.49964109e-01],\n",
       "        [ -7.20944760e+00,  -8.13342497e+00,  -1.19600823e+01,\n",
       "           5.74323000e+00,   7.51733242e-01],\n",
       "        [  3.86589348e+01,  -2.28161134e+00,  -2.00723582e+01,\n",
       "          -5.59374880e+00,  -1.84333017e+00],\n",
       "        [  1.97238409e+01,   8.02977944e-01,  -1.81158582e+01,\n",
       "           7.91140131e-01,  -2.26962809e+00],\n",
       "        [  3.51149404e+01,   2.12468837e+01,   1.67378339e+01,\n",
       "           1.11936522e+00,  -6.16455931e-03],\n",
       "        [  2.87662501e+01,   5.35803439e+00,  -1.16659972e+01,\n",
       "          -3.91048000e+00,  -3.67277286e+00],\n",
       "        [  6.05300927e+01,  -1.50032592e+01,   2.78899061e+01,\n",
       "          -8.44026710e+00,  -4.79845593e+00],\n",
       "        [  1.24374120e+01,   1.12916961e+01,  -1.67830836e+00,\n",
       "          -2.01146483e-01,   6.92796179e-01],\n",
       "        [ -3.04539487e+01,  -5.04203810e+00,  -6.04894269e+00,\n",
       "           3.62466904e+00,   6.80200407e+00],\n",
       "        [  7.28808291e-01,  -3.60235146e+00,   3.11641334e+00,\n",
       "          -3.51758135e+00,   5.13341957e+00],\n",
       "        [ -3.72473694e+01,  -5.77773861e+00,   5.74043315e-01,\n",
       "           7.38015385e+00,   3.88250367e+00],\n",
       "        [  5.67988025e+00,   1.85831901e+01,  -4.31766225e+00,\n",
       "          -1.24071048e+00,   3.58030830e+00],\n",
       "        [  1.43579451e+01,   1.41947812e+01,  -1.27448037e+00,\n",
       "           2.66861198e+00,  -3.60485990e+00],\n",
       "        [  1.91259681e+01,  -7.98190739e+00,   2.17248527e+01,\n",
       "          -1.29771048e+00,  -2.20994741e+00],\n",
       "        [  2.52225088e+01,   2.32054755e+01,   3.11524958e+01,\n",
       "          -9.81324206e-02,   8.83063771e-01],\n",
       "        [  1.90610549e+01,  -5.85538876e+00,   1.42056884e+01,\n",
       "          -3.88343676e-01,  -9.03151193e+00],\n",
       "        [ -1.24862082e+01,   1.22778249e+01,   3.54111430e+00,\n",
       "           1.67551618e+00,  -1.24148547e+00],\n",
       "        [ -3.28413909e+01,  -2.13676007e+00,   1.86234718e+00,\n",
       "           2.87019526e+00,  -1.02841680e+00],\n",
       "        [  3.19477066e+01,   2.17201749e+01,  -1.38353182e+01,\n",
       "          -2.93802758e+00,  -4.16769877e+00],\n",
       "        [ -3.26104468e+01,  -2.60182414e+00,  -2.48191799e+00,\n",
       "          -1.08770535e+00,   6.81013499e-01],\n",
       "        [ -1.42833371e+01,   7.11305546e+00,   1.49239264e+01,\n",
       "          -4.76567026e-01,  -6.45990495e-01],\n",
       "        [ -8.75692070e+00,   6.80855805e+00,  -1.28390457e+01,\n",
       "          -5.32388316e+00,   4.35980188e-01],\n",
       "        [ -2.06080177e+01,   5.08711807e+00,   1.19177384e+00,\n",
       "          -3.06232592e+00,   3.19016876e+00],\n",
       "        [ -3.51884107e+01,  -5.40582140e+00,  -6.12093368e-01,\n",
       "          -3.44638732e+00,   6.98989240e-01],\n",
       "        [  1.09474324e+00,   1.98420476e+01,   1.30246935e+01,\n",
       "           3.28005636e+00,  -8.16238187e-01],\n",
       "        [ -5.01062555e+01,  -1.31577582e+01,   1.09950422e+00,\n",
       "           1.65341189e+00,   3.46184905e+00],\n",
       "        [ -1.59074417e+01,   7.97929156e+00,   5.38403862e-01,\n",
       "          -1.56971343e+00,  -1.08751312e+00],\n",
       "        [ -1.92714480e+01,   5.61773879e+00,  -2.06470332e+00,\n",
       "          -6.29725350e+00,  -2.51773923e+00],\n",
       "        [ -3.23675300e+01,  -4.70695791e+00,  -8.52662592e+00,\n",
       "          -3.49916576e+00,  -2.29084116e+00],\n",
       "        [ -5.15347572e+01,  -1.39950258e+01,   2.05150712e-02,\n",
       "           1.77127649e+01,  -7.88122753e+00],\n",
       "        [ -4.61874921e+01,  -7.19973339e+00,   3.79047252e+00,\n",
       "          -4.83623471e+00,   3.93308987e+00],\n",
       "        [ -4.47107614e+01,  -6.98671005e+00,   3.95754683e+00,\n",
       "           7.94008974e+00,  -4.06215016e+00],\n",
       "        [ -1.98509319e+01,   9.83401890e+00,   5.83397083e+00,\n",
       "           7.64531838e-02,  -3.28646626e+00],\n",
       "        [ -5.05747473e+01,  -7.55055958e+00,   5.33011201e+00,\n",
       "          -1.20180056e+01,   1.93286745e+00],\n",
       "        [ -5.40044005e+01,  -1.33489019e+01,   1.61216319e+00,\n",
       "           4.95417962e+00,  -3.41111256e+00],\n",
       "        [ -3.68192306e+01,  -3.36329034e+00,  -1.02217082e+00,\n",
       "          -4.16260471e+00,  -1.71684223e+00],\n",
       "        [ -3.33223469e+01,   5.53356640e-01,   2.47629821e-01,\n",
       "          -1.13435069e+01,  -1.89495474e+00],\n",
       "        [ -4.87292078e+01,  -6.01551830e+00,   5.30139120e+00,\n",
       "          -1.32557329e+01,   9.15340394e-01],\n",
       "        [ -5.49986028e+01,  -9.08259354e+00,   3.43075464e+00,\n",
       "          -2.82755451e+01,   5.62557691e+00]])"
      ]
     },
     "execution_count": 5,
     "metadata": {},
     "output_type": "execute_result"
    }
   ],
   "source": [
    "df2 = pd.read_csv(\"prediction_data.csv\", header=None, encoding='utf-8')\n",
    "#df1 = df1.astype(float)\n",
    "ds1 = df2.values\n",
    "x1 = ds1[:,0:23]\n",
    "lowDDataMat3,reconMat3,n3 = pca(x1)\n",
    "print('auto choose '+str(n3)+' dimentional')\n",
    "lowDDataMat3"
   ]
  },
  {
   "cell_type": "markdown",
   "metadata": {},
   "source": [
    "# Keras application"
   ]
  },
  {
   "cell_type": "code",
   "execution_count": 6,
   "metadata": {
    "ExecuteTime": {
     "end_time": "2018-01-05T16:20:14.942715Z",
     "start_time": "2018-01-05T16:20:14.136260Z"
    }
   },
   "outputs": [
    {
     "name": "stderr",
     "output_type": "stream",
     "text": [
      "Using TensorFlow backend.\n",
      "/usr/lib/python3.6/importlib/_bootstrap.py:219: RuntimeWarning: compiletime version 3.5 of module 'tensorflow.python.framework.fast_tensor_util' does not match runtime version 3.6\n",
      "  return f(*args, **kwds)\n"
     ]
    }
   ],
   "source": [
    "from keras.layers import *\n",
    "from keras.models import Sequential, Model\n",
    "from keras.utils import plot_model;"
   ]
  },
  {
   "cell_type": "code",
   "execution_count": null,
   "metadata": {
    "ExecuteTime": {
     "end_time": "2018-01-05T16:19:13.666979Z",
     "start_time": "2018-01-05T16:19:08.002447Z"
    }
   },
   "outputs": [],
   "source": [
    "#load dataset\n",
    "#df = pandas.read_csv(\"04-12_NBA_rookies_data_without3PP.csv\", header=None)\n",
    "df1 = pd.read_csv(\"04-12_NBA_rookies_label.csv\",header=None)\n",
    "#df_test = pandas.read_csv(\"prediction_data.csv\",header=None)\n",
    "df1_test = pd.read_csv(\"rookies_name.csv\",header=None)\n",
    "#ds = df.values\n",
    "ds1 = df1.values\n",
    "#ds_test = df_test.values\n",
    "ds1_test = df1_test.values\n",
    "x_train = lowDDataMat[:,0:5]\n",
    "y_train = ds1[:,1]\n",
    "x_test = lowDDataMat3[:,0:5]\n",
    "y_test = ds1_test[:,0]\n",
    "\n",
    "dim = x_train.shape[1]\n",
    "model = Sequential()\n",
    "model.add(Dense(100, input_dim=dim, activation='relu'))\n",
    "model.add(Dropout(0.5))\n",
    "model.add(Dense(2, activation='softmax'))\n",
    "\n",
    "model.compile(loss='sparse_categorical_crossentropy', optimizer='rmsprop',metrics=[\"accuracy\"])\n",
    "plot_model(model,to_file = 'network.png', show_shapes= True)"
   ]
  },
  {
   "cell_type": "code",
   "execution_count": null,
   "metadata": {},
   "outputs": [],
   "source": [
    "idx = list(range(x_train.shape[0]))\n",
    "np.random.shuffle(idx)\n",
    "hist = model.fit(x_train[idx],y_train[idx],validation_split=0.2,epochs=120,shuffle=True, batch_size = 16)\n",
    "dnn_predict = model.predict_classes(x_test)\n",
    "print(sum(dnn_predict))\n",
    "print(y_test[dnn_predict == 1])"
   ]
  },
  {
   "cell_type": "code",
   "execution_count": null,
   "metadata": {
    "ExecuteTime": {
     "end_time": "2018-01-05T16:19:14.013739Z",
     "start_time": "2018-01-05T16:19:13.766970Z"
    }
   },
   "outputs": [],
   "source": [
    "plt.plot(hist.history['acc'])\n",
    "plt.plot(hist.history['val_acc'])\n",
    "plt.title('model accuracy')\n",
    "plt.ylabel('accuracy')\n",
    "plt.xlabel('epoch')\n",
    "plt.legend(['train', 'test'], loc = 'lower right')\n",
    "plt.show()\n"
   ]
  },
  {
   "cell_type": "code",
   "execution_count": null,
   "metadata": {
    "ExecuteTime": {
     "end_time": "2018-01-05T16:19:14.419646Z",
     "start_time": "2018-01-05T16:19:14.113187Z"
    }
   },
   "outputs": [],
   "source": [
    "plt.plot(hist.history['loss'])\n",
    "plt.plot(hist.history['val_loss'])\n",
    "plt.title('model loss')\n",
    "plt.ylabel('loss')\n",
    "plt.xlabel('epoch')\n",
    "plt.legend(['train', 'test'], loc = 'upper right')\n",
    "plt.show()"
   ]
  },
  {
   "cell_type": "code",
   "execution_count": null,
   "metadata": {},
   "outputs": [],
   "source": []
  }
 ],
 "metadata": {
  "anaconda-cloud": {},
  "kernelspec": {
   "display_name": "Python 3",
   "language": "python",
   "name": "python3"
  },
  "language_info": {
   "codemirror_mode": {
    "name": "ipython",
    "version": 3
   },
   "file_extension": ".py",
   "mimetype": "text/x-python",
   "name": "python",
   "nbconvert_exporter": "python",
   "pygments_lexer": "ipython3",
   "version": "3.6.3"
  },
  "latex_envs": {
   "LaTeX_envs_menu_present": true,
   "autoclose": false,
   "autocomplete": true,
   "bibliofile": "biblio.bib",
   "cite_by": "apalike",
   "current_citInitial": 1,
   "eqLabelWithNumbers": true,
   "eqNumInitial": 1,
   "hotkeys": {
    "equation": "Ctrl-E",
    "itemize": "Ctrl-I"
   },
   "labels_anchors": false,
   "latex_user_defs": false,
   "report_style_numbering": false,
   "user_envs_cfg": false
  },
  "toc": {
   "nav_menu": {},
   "number_sections": true,
   "sideBar": true,
   "skip_h1_title": false,
   "toc_cell": false,
   "toc_position": {},
   "toc_section_display": "block",
   "toc_window_display": false
  },
  "varInspector": {
   "cols": {
    "lenName": 16,
    "lenType": 16,
    "lenVar": 40
   },
   "kernels_config": {
    "python": {
     "delete_cmd_postfix": "",
     "delete_cmd_prefix": "del ",
     "library": "var_list.py",
     "varRefreshCmd": "print(var_dic_list())"
    },
    "r": {
     "delete_cmd_postfix": ") ",
     "delete_cmd_prefix": "rm(",
     "library": "var_list.r",
     "varRefreshCmd": "cat(var_dic_list()) "
    }
   },
   "types_to_exclude": [
    "module",
    "function",
    "builtin_function_or_method",
    "instance",
    "_Feature"
   ],
   "window_display": false
  }
 },
 "nbformat": 4,
 "nbformat_minor": 1
}
