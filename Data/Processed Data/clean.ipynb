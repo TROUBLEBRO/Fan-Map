{
 "cells": [
  {
   "cell_type": "code",
   "execution_count": 1,
   "metadata": {
    "collapsed": true
   },
   "outputs": [],
   "source": [
    "import  numpy as np\n",
    "import pandas as pd"
   ]
  },
  {
   "cell_type": "code",
   "execution_count": null,
   "metadata": {
    "collapsed": true
   },
   "outputs": [],
   "source": [
    "df = pd.read_excel('@CarisLeVert .xlsx',)\n",
    "DA = df['V1']\n",
    "DB = df['V2']\n",
    "\n",
    "table = pd.read_excel('缩写.xlsx')\n",
    "table.columns = ['A','B']\n",
    "smp_name = table['A'].tolist()\n",
    "full_name = table['B'].tolist()"
   ]
  },
  {
   "cell_type": "code",
   "execution_count": null,
   "metadata": {
    "collapsed": true
   },
   "outputs": [],
   "source": [
    "dict = {\n",
    "        'V1':[],\n",
    "        'V2':[],\n",
    "        'V3':[]\n",
    "    }"
   ]
  },
  {
   "cell_type": "code",
   "execution_count": null,
   "metadata": {
    "collapsed": true
   },
   "outputs": [],
   "source": [
    "    for idx,place in enumerate(DB):\n",
    "        try:\n",
    "            name = place.split(',')[-1].strip()\n",
    "\n",
    "            where = smp_name.index(name)\n",
    "\n",
    "            v1 = DA[idx]\n",
    "            v2 = place\n",
    "            v3 = full_name[where]\n",
    "            dict['V1'].append(v1)\n",
    "            dict['V2'].append(v2)\n",
    "            dict['V3'].append(v3)\n",
    "\n",
    "        except Exception as e:\n",
    "            # print(e)\n",
    "            pass"
   ]
  },
  {
   "cell_type": "code",
   "execution_count": null,
   "metadata": {
    "collapsed": true
   },
   "outputs": [],
   "source": [
    "    data = pd.DataFrame(dict)\n",
    "    print(data.shape)\n",
    "    data.to_csv('clean_data.csv',index=None)"
   ]
  }
 ],
 "metadata": {
  "kernelspec": {
   "display_name": "Python 3",
   "language": "python",
   "name": "python3"
  },
  "language_info": {
   "codemirror_mode": {
    "name": "ipython",
    "version": 3
   },
   "file_extension": ".py",
   "mimetype": "text/x-python",
   "name": "python",
   "nbconvert_exporter": "python",
   "pygments_lexer": "ipython3",
   "version": "3.6.0"
  }
 },
 "nbformat": 4,
 "nbformat_minor": 2
}
